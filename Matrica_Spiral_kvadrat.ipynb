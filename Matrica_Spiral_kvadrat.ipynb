{
 "cells": [
  {
   "cell_type": "code",
   "execution_count": 1,
   "metadata": {},
   "outputs": [
    {
     "name": "stdout",
     "output_type": "stream",
     "text": [
      "7\n",
      "1 2 3 4 5 6 7\n",
      "24 25 26 27 28 29 8\n",
      "23 40 41 42 43 30 9\n",
      "22 39 48 49 44 31 10\n",
      "21 38 47 46 45 32 11\n",
      "20 37 36 35 34 33 12\n",
      "19 18 17 16 15 14 13\n"
     ]
    }
   ],
   "source": [
    "n = int(input())\n",
    "mat = [[0]*n for i in range(n)]\n",
    "st, m = 1, 0\n",
    "# Заранее присваиваю значение центральному элементу\n",
    "# матрицы\n",
    "mat[n//2][n//2]=n*n\n",
    "for v in range(n//2):\n",
    "    #Заполнение верхней горизонтальной матрицы\n",
    "    for i in range(n-m):\n",
    "        mat[v][i+v] = st\n",
    "        st+=1\n",
    "        #i+=1\n",
    "    #Заполнение правой вертикальной матрицы    \n",
    "    for i in range(v+1, n-v):\n",
    "        mat[i][-v-1] = st\n",
    "        st+=1\n",
    "        #i+=1\n",
    "    #Заполнение нижней горизонтальной матрицы\n",
    "    for i in range(v+1, n-v):\n",
    "        mat[-v-1][-i-1] =st\n",
    "        st+=1\n",
    "        #i+=1\n",
    "    #Заполнение левой вертикальной матрицы\n",
    "    for i in range(v+1, n-(v+1)):\n",
    "        mat[-i-1][v]=st\n",
    "        st+=1\n",
    "        #i+=1\n",
    "    #v+=1\n",
    "    m+=2\n",
    "#Вывод результата на экран\n",
    "for i in mat:\n",
    "    print(*i)"
   ]
  },
  {
   "cell_type": "code",
   "execution_count": null,
   "metadata": {
    "collapsed": true
   },
   "outputs": [],
   "source": []
  }
 ],
 "metadata": {
  "kernelspec": {
   "display_name": "Python 3",
   "language": "python",
   "name": "python3"
  },
  "language_info": {
   "codemirror_mode": {
    "name": "ipython",
    "version": 3
   },
   "file_extension": ".py",
   "mimetype": "text/x-python",
   "name": "python",
   "nbconvert_exporter": "python",
   "pygments_lexer": "ipython3",
   "version": "3.7.4"
  }
 },
 "nbformat": 4,
 "nbformat_minor": 1
}
