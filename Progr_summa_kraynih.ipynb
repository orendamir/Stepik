{
 "cells": [
  {
   "cell_type": "code",
   "execution_count": 2,
   "metadata": {},
   "outputs": [
    {
     "name": "stdout",
     "output_type": "stream",
     "text": [
      "1 3 5 6 10\n",
      "13 6 9 15 7\n"
     ]
    }
   ],
   "source": [
    "a = input ()\n",
    "s=a.split()\n",
    "l=len(s)\n",
    "n = s.copy()\n",
    "i=0\n",
    "if l == 1:\n",
    "    n=s\n",
    "else:\n",
    "    for i in range(0, l):\n",
    "        if i == 0:\n",
    "            m = int(s[i+1]) + int(s[-1])\n",
    "            n [i] = m\n",
    "        elif i ==l-1:\n",
    "            m = int(s[-2]) + int(s[0])\n",
    "            n [i] = m\n",
    "        #n [i] += s[-2] + s[0]\n",
    "        else:\n",
    "            m = int(s[i-1]) + int(s[i+1])\n",
    "            n [i] = m\n",
    "              \n",
    "print(' '.join(str(x) for x in n))"
   ]
  },
  {
   "cell_type": "markdown",
   "metadata": {},
   "source": [
    "Программа на входе получает строку из на вход которой подаётся список чисел одной строкой. Программа должна для каждого элемента этого списка вывести сумму двух его соседей. Для элементов списка, являющихся крайними, одним из соседей считается элемент, находящий на противоположном конце этого списка. Например, если на вход подаётся список \"1 3 5 6 10\", то на выход ожидается список \"13 6 9 15 7\" (без кавычек).\n",
    "\n",
    "Если на вход пришло только одно число, надо вывести его же.\n",
    "\n",
    "Вывод должен содержать одну строку с числами нового списка, разделёнными пробелом."
   ]
  },
  {
   "cell_type": "code",
   "execution_count": null,
   "metadata": {},
   "outputs": [],
   "source": []
  }
 ],
 "metadata": {
  "kernelspec": {
   "display_name": "Python 3",
   "language": "python",
   "name": "python3"
  },
  "language_info": {
   "codemirror_mode": {
    "name": "ipython",
    "version": 3
   },
   "file_extension": ".py",
   "mimetype": "text/x-python",
   "name": "python",
   "nbconvert_exporter": "python",
   "pygments_lexer": "ipython3",
   "version": "3.7.4"
  }
 },
 "nbformat": 4,
 "nbformat_minor": 2
}
