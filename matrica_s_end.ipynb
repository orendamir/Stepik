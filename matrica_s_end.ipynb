{
 "cells": [
  {
   "cell_type": "markdown",
   "metadata": {},
   "source": [
    "# Напишите программу, на вход которой подаётся прямоугольная матрица \n",
    "в виде последовательности строк, заканчивающихся строкой, содержащей \n",
    "только строку \"end\" (без кавычек)\n",
    "\n",
    "Программа должна вывести матрицу того же размера, у которой каждый \n",
    "элемент в позиции i, j равен сумме элементов первой матрицы на позициях \n",
    "(i-1, j), (i+1, j), (i, j-1), (i, j+1). У крайних символов соседний \n",
    "элемент находится с противоположной стороны матрицы.\n",
    "\n",
    "В случае одной строки/столбца элемент сам себе является соседом \n",
    "по соответствующему направлению.\n"
   ]
  },
  {
   "cell_type": "code",
   "execution_count": 4,
   "metadata": {},
   "outputs": [
    {
     "name": "stdout",
     "output_type": "stream",
     "text": [
      "9 5 3 \n",
      "0 7 -1\n",
      "-5 2 9\n",
      "end\n",
      "3 21 22 \n",
      "10 6 19 \n",
      "20 16 -1 \n"
     ]
    }
   ],
   "source": [
    "\n",
    "n = ''\n",
    "m = []\n",
    "while True:\n",
    "    n = str(input()) # ввод строк\n",
    "    if n == 'end':\n",
    "        break\n",
    "    m.append([int(s) for s in n.split()]) \n",
    "li, lj = len(m), len(m[0])\n",
    "new = [[sum([m[i-1][j], m[(i+1)%li][j], m[i][j-1], m[i][(j+1)%lj]]) for j in range(lj)] for i in range(li)]\n",
    "\n",
    "for i in range (li):\n",
    "    for j in range (lj):\n",
    "        print(new[i][j], end =' ')\n",
    "    print()"
   ]
  },
  {
   "cell_type": "code",
   "execution_count": null,
   "metadata": {},
   "outputs": [],
   "source": []
  }
 ],
 "metadata": {
  "kernelspec": {
   "display_name": "Python 3",
   "language": "python",
   "name": "python3"
  },
  "language_info": {
   "codemirror_mode": {
    "name": "ipython",
    "version": 3
   },
   "file_extension": ".py",
   "mimetype": "text/x-python",
   "name": "python",
   "nbconvert_exporter": "python",
   "pygments_lexer": "ipython3",
   "version": "3.7.4"
  }
 },
 "nbformat": 4,
 "nbformat_minor": 1
}
