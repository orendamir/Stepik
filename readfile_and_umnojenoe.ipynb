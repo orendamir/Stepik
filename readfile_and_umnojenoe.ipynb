{
 "cells": [
  {
   "cell_type": "code",
   "execution_count": 6,
   "metadata": {},
   "outputs": [],
   "source": [
    "with open('dataset_3363_2.txt') as f:\n",
    "    s=f.readline()\n",
    "\n"
   ]
  },
  {
   "cell_type": "code",
   "execution_count": 7,
   "metadata": {},
   "outputs": [
    {
     "name": "stdout",
     "output_type": "stream",
     "text": [
      "T8r8Y4p9g2n7c2P2X4Z13J17E12p13i2p7V1x5Z17S1h12r13V20S7t4h1E11i15E6\n",
      "\n"
     ]
    }
   ],
   "source": [
    "print(s)"
   ]
  },
  {
   "cell_type": "code",
   "execution_count": 9,
   "metadata": {},
   "outputs": [
    {
     "name": "stdout",
     "output_type": "stream",
     "text": [
      "TTTTTTTT\n",
      "rrrrrrrr\n",
      "YYYY\n",
      "ppppppppp\n",
      "gg\n",
      "nnnnnnn\n",
      "cc\n",
      "PP\n",
      "XXXX\n",
      "ZZZZZZZZZZZZZ\n",
      "JJJJJJJJJJJJJJJJJ\n",
      "EEEEEEEEEEEE\n",
      "ppppppppppppp\n",
      "ii\n",
      "ppppppp\n",
      "V\n",
      "xxxxx\n",
      "ZZZZZZZZZZZZZZZZZ\n",
      "S\n",
      "hhhhhhhhhhhh\n",
      "rrrrrrrrrrrrr\n",
      "VVVVVVVVVVVVVVVVVVVV\n",
      "SSSSSSS\n",
      "tttt\n",
      "h\n",
      "EEEEEEEEEEE\n",
      "iiiiiiiiiiiiiii\n",
      "EEEEEE\n"
     ]
    }
   ],
   "source": [
    "l = len(s)\n",
    "integ = []\n",
    "i = 0\n",
    "while i < l:\n",
    "    s_int = ''\n",
    "    a = s[i]\n",
    "    while '0' <= a <= '9':\n",
    "        s_int += a\n",
    "        i += 1\n",
    "        if i < l:\n",
    "            a = s[i]\n",
    "        else:\n",
    "            break\n",
    "    i += 1\n",
    "    if s_int != '':\n",
    "        integ.append(int(s_int))\n",
    " \n",
    "\n",
    "j=0\n",
    "for i in s:\n",
    "    \n",
    "    if i.isalpha():\n",
    "        g=i*integ[j]\n",
    "        print(g)\n",
    "        #r.append(g)\n",
    "        j+=1\n",
    "#print (*r, '')\n",
    "\n"
   ]
  },
  {
   "cell_type": "code",
   "execution_count": null,
   "metadata": {},
   "outputs": [],
   "source": []
  }
 ],
 "metadata": {
  "kernelspec": {
   "display_name": "Python 3",
   "language": "python",
   "name": "python3"
  },
  "language_info": {
   "codemirror_mode": {
    "name": "ipython",
    "version": 3
   },
   "file_extension": ".py",
   "mimetype": "text/x-python",
   "name": "python",
   "nbconvert_exporter": "python",
   "pygments_lexer": "ipython3",
   "version": "3.7.4"
  }
 },
 "nbformat": 4,
 "nbformat_minor": 1
}
